{
 "cells": [
  {
   "cell_type": "code",
   "execution_count": 1,
   "metadata": {},
   "outputs": [],
   "source": [
    "%matplotlib inline\n",
    "import numpy as np\n",
    "import matplotlib.pyplot as plt\n",
    "\n",
    "from model import lorenz63_fdm\n",
    "from nmc import nmc"
   ]
  },
  {
   "cell_type": "code",
   "execution_count": 2,
   "metadata": {},
   "outputs": [],
   "source": [
    "from scipy.linalg import sqrtm"
   ]
  },
  {
   "cell_type": "code",
   "execution_count": 42,
   "metadata": {},
   "outputs": [
    {
     "data": {
      "text/plain": [
       "(3, 1000)"
      ]
     },
     "execution_count": 42,
     "metadata": {},
     "output_type": "execute_result"
    }
   ],
   "source": [
    "x0 = np.array([[8, 0, 30]]).T\n",
    "end_time = 10\n",
    "dt = 0.01\n",
    "ts = np.arange(0, end_time, dt)\n",
    "\n",
    "nature = lorenz63_fdm(x0, ts)\n",
    "nature.shape"
   ]
  },
  {
   "cell_type": "code",
   "execution_count": 45,
   "metadata": {},
   "outputs": [
    {
     "data": {
      "text/plain": [
       "array([[ 6.55632545,  8.25594221, -3.96430913],\n",
       "       [ 8.25594221, 12.56919551, -5.30984864],\n",
       "       [-3.96430913, -5.30984864,  4.15983288]])"
      ]
     },
     "execution_count": 45,
     "metadata": {},
     "output_type": "execute_result"
    }
   ],
   "source": [
    "Pb = nmc(lorenz63_fdm, nature, dt, 1, 0.04)\n",
    "Pb"
   ]
  },
  {
   "cell_type": "code",
   "execution_count": 46,
   "metadata": {},
   "outputs": [
    {
     "data": {
      "text/plain": [
       "(3, 125)"
      ]
     },
     "execution_count": 46,
     "metadata": {},
     "output_type": "execute_result"
    }
   ],
   "source": [
    "obs_intv = 8\n",
    "obs = nature + np.sqrt(2) * np.random.randn(*nature.shape)\n",
    "obs = obs[:,::obs_intv]\n",
    "obs.shape"
   ]
  },
  {
   "cell_type": "code",
   "execution_count": 47,
   "metadata": {},
   "outputs": [
    {
     "data": {
      "text/plain": [
       "array([[2., 0., 0.],\n",
       "       [0., 2., 0.],\n",
       "       [0., 0., 2.]])"
      ]
     },
     "execution_count": 47,
     "metadata": {},
     "output_type": "execute_result"
    }
   ],
   "source": [
    "R = np.eye(3) * 2\n",
    "R"
   ]
  },
  {
   "cell_type": "code",
   "execution_count": 48,
   "metadata": {},
   "outputs": [
    {
     "data": {
      "text/plain": [
       "array([[ 18],\n",
       "       [-10],\n",
       "       [ 45]])"
      ]
     },
     "execution_count": 48,
     "metadata": {},
     "output_type": "execute_result"
    }
   ],
   "source": [
    "# a very bad initial condition\n",
    "X_ini = x0 + np.array([[10, -10, 15]]).T\n",
    "X_ini"
   ]
  },
  {
   "cell_type": "code",
   "execution_count": 49,
   "metadata": {},
   "outputs": [
    {
     "data": {
      "text/plain": [
       "(3, 30)"
      ]
     },
     "execution_count": 49,
     "metadata": {},
     "output_type": "execute_result"
    }
   ],
   "source": [
    "N_ens = 30\n",
    "X_ens_ini = np.random.multivariate_normal(X_ini.ravel(), Pb, size=N_ens).T  # (ndim, N_ens)\n",
    "X_ens_ini.shape"
   ]
  },
  {
   "cell_type": "code",
   "execution_count": 50,
   "metadata": {},
   "outputs": [],
   "source": [
    "def da_rmse(nature, analysis, obs_intv):\n",
    "    return np.sqrt(np.mean((analysis[:,::obs_intv] - nature[:,::obs_intv]) ** 2, axis=0))\n",
    "\n",
    "def plot_assimilation_result(nature, obs, analysis, obs_intv):\n",
    "    fig, axs = plt.subplots(nrows=4, figsize=(8, 8), sharex=True)\n",
    "    for i in range(3):\n",
    "        axs[i].plot(ts, nature[i,:], color='#024BC7', label='nature')\n",
    "        axs[i].plot(ts[::obs_intv], obs[i,:], '.', color='#024BC7', label='obs')\n",
    "        axs[i].plot(ts, analysis[i,:], color='#FFA500', label='analysis')\n",
    "    axs[0].legend()\n",
    "    axs[0].set_title('X')\n",
    "    axs[1].set_title('Y')\n",
    "    axs[2].set_title('Z')\n",
    "    \n",
    "    rmse = da_rmse(nature, analysis, obs_intv)\n",
    "    axs[3].plot(ts[::obs_intv], rmse, '.-')\n",
    "    axs[3].set_title('RMSE')\n",
    "    \n",
    "    plt.tight_layout()"
   ]
  },
  {
   "cell_type": "code",
   "execution_count": null,
   "metadata": {},
   "outputs": [],
   "source": []
  },
  {
   "cell_type": "code",
   "execution_count": null,
   "metadata": {},
   "outputs": [],
   "source": []
  },
  {
   "cell_type": "code",
   "execution_count": 63,
   "metadata": {},
   "outputs": [],
   "source": [
    "class DiagWarning(UserWarning):\n",
    "    \"\"\"Used in serially assimilation when R is not diagonal\"\"\"\n",
    "    pass\n",
    "\n",
    "\n",
    "class DAbase:\n",
    "    def __init__(self, model, dt, store_history=False):\n",
    "        self._isstore = store_history\n",
    "        self._params = {'alpha': 0, 'inflat': 1}\n",
    "        self.model = model\n",
    "        self.dt = dt\n",
    "        self.X_ini = None\n",
    "        \n",
    "    def set_params(self, param_list, **kwargs):\n",
    "        for key, value in kwargs.items():\n",
    "            if key in param_list:\n",
    "                self._params[key] = kwargs.get(key)\n",
    "            else:\n",
    "                raise ValueError(f'Invalid parameter: {key}')\n",
    "        \n",
    "    def _check_params(self, param_list):\n",
    "        missing_params = []\n",
    "        for var in param_list:\n",
    "            if self._params.get(var) is None:\n",
    "                missing_params.append(var)\n",
    "        return missing_params\n",
    "    \n",
    "    \n",
    "class EnsembleBase(DAbase):    \n",
    "    def __init__(self, model, dt, store_history=False):\n",
    "        super().__init__(model, dt, store_history)\n",
    "        self._param_list = [\n",
    "            'X_ens_ini', \n",
    "            'obs', \n",
    "            'obs_interv', \n",
    "            'R', \n",
    "            'H_func', \n",
    "            'alpha', \n",
    "            'inflat',\n",
    "            'local',\n",
    "        ]\n",
    "    \n",
    "    def list_params(self):\n",
    "        return self._param_list\n",
    "    \n",
    "    def set_params(self, **kwargs):\n",
    "        local = kwargs.get('local')\n",
    "        if local is not None and not isinstance(local, (tuple, list)):\n",
    "            kwargs['local'] = tuple(local)\n",
    "        super().set_params(self._param_list, **kwargs)\n",
    "    \n",
    "    def _check_params(self):\n",
    "        if self._params.get('H_func') is None:\n",
    "            H_func = lambda arr: arr\n",
    "            self._params['H_func']\n",
    "        \n",
    "        missing_params = super()._check_params(self._param_list)\n",
    "        if missing_params:\n",
    "            raise ValueError(f\"Missing parameters: {missing_params}\")\n",
    "            \n",
    "    def _analysis(self):\n",
    "        pass\n",
    "            \n",
    "    def cycle(self, **kwargs):\n",
    "        self._check_params()\n",
    "        \n",
    "        model = self.model\n",
    "        dt = self.dt\n",
    "        cycle_len = self._params['obs_interv']\n",
    "        cycle_num = self._params['obs'].shape[1]\n",
    "        \n",
    "        xb = self._params['X_ens_ini'].copy()\n",
    "        obs = self._params['obs']\n",
    "        R = self._params['R']\n",
    "        H_func = self._params['H_func']\n",
    "        alpha = self._params['alpha']\n",
    "        inflat = self._params['inflat']\n",
    "        local = self._params['local']\n",
    "        \n",
    "        ndim, N_ens = xb.shape\n",
    "        background = np.zeros((N_ens, ndim, cycle_len*cycle_num))\n",
    "        analysis = np.zeros_like(background)\n",
    "        \n",
    "        t_start = 0\n",
    "        ts = np.linspace(t_start, (cycle_len-1)*dt, cycle_len)\n",
    "        \n",
    "        for nc in range(cycle_num):\n",
    "            # analysis\n",
    "            xa = self._analysis(xb, obs[:,[nc]], R, H_func, *local, **kwargs)\n",
    "            \n",
    "            # inflat\n",
    "            xa_perturb = xa - xa.mean(axis=1)[:,np.newaxis]\n",
    "            xa_perturb *= inflat\n",
    "            xa = xa.mean(axis=1)[:,np.newaxis] + xa_perturb\n",
    "            \n",
    "            # ensemble forecast\n",
    "            for iens in range(N_ens):\n",
    "                x_forecast = model(xa[:,iens], ts)   # (ndim, ts.size)\n",
    "                \n",
    "                idx1 = nc*cycle_len\n",
    "                idx2 = (nc+1)*cycle_len\n",
    "                analysis[iens,:,idx1:idx2] = x_forecast\n",
    "                background[iens,:,[idx1]] = xb[:,iens]\n",
    "                background[iens,:,(idx1+1):idx2] = x_forecast[:,1:]\n",
    "                \n",
    "                # xb for next cycle\n",
    "                xb[:,iens] = x_forecast[:,-1]\n",
    "                \n",
    "            # for next cycle\n",
    "            t_start = int(ts[-1] + dt)\n",
    "            ts = np.linspace(t_start, t_start+(cycle_len-1)*dt, cycle_len)\n",
    "            \n",
    "        self.background = background\n",
    "        self.analysis = analysis\n",
    "\n",
    "\n",
    "class EnKF(EnsembleBase):\n",
    "    def _check_params(self):          \n",
    "        if self._params.get('local') is None:\n",
    "            ndim_model = self._params.get('X_ens_ini').shape[0]\n",
    "            ndim_obs = self._params.get('obs').shape[0]\n",
    "            loc_mo = np.ones((ndim_model, ndim_obs))\n",
    "            loc_oo = np.ones((ndim_obs, ndim_obs))\n",
    "            self._params['local'] = (loc_mo, loc_oo)            \n",
    "        super()._check_params()\n",
    " \n",
    "    def _analysis(self, xb, yo, R, H_func, loc_mo, loc_oo):\n",
    "        \"\"\"xb.shape = (n_dim, n_ens)\"\"\"\n",
    "        N_ens = xb.shape[1]\n",
    "        xb_mean = xb.mean(axis=1)[:,np.newaxis]   # (ndim_xb, 1)\n",
    "        Xb_perturb = xb - xb_mean   # (ndim_xb, N_ens)\n",
    "        Hxb_mean = H_func(xb).mean(axis=1)[:,np.newaxis]   # (ndim_yo, 1)\n",
    "        HXb_perturb = H_func(xb) - Hxb_mean   # (ndim_yo, N_ens)\n",
    "        \n",
    "        PfH_T = Xb_perturb @ HXb_perturb.T / (N_ens-1)\n",
    "        HPfH_T = HXb_perturb @ HXb_perturb.T / (N_ens-1)\n",
    "        K = loc_mo * PfH_T @ np.linalg.inv(loc_oo * HPfH_T + R)\n",
    "        \n",
    "        yo_ens = np.random.multivariate_normal(yo.ravel(), R, size=N_ens).T   # (ndim_yo, N_ens)\n",
    "        xa_ens = np.zeros((xb.shape[0], N_ens))\n",
    "        for iens in range(N_ens):            \n",
    "            xa_ens[:,[iens]] = xb[:,[iens]] + K @ (yo_ens[:,[iens]] - H_func(xb[:,[iens]]))\n",
    "            \n",
    "        return xa_ens\n",
    "\n",
    "\n",
    "class EnSRF(EnsembleBase):         \n",
    "    def _check_params(self):\n",
    "        # default setting\n",
    "        if self._params.get('local') is None:\n",
    "            ndim_model = self._params.get('X_ens_ini').shape[0]\n",
    "            ndim_obs = self._params.get('obs').shape[0]\n",
    "            loc_mo = np.ones((ndim_model, ndim_obs))\n",
    "            self._params['local'] = (loc_mo,)            \n",
    "        \n",
    "        # check parameters\n",
    "        super()._check_params()\n",
    "        \n",
    "        # check if R is diagonal matrix\n",
    "        R = self._params['R']\n",
    "        Rnew = np.zeros_like(R)\n",
    "        np.fill_diagonal(Rnew, R.diagonal())\n",
    "        if not np.all(R == Rnew):\n",
    "            messg = 'EnSRF assimilates observations serially. It suggests that R should be diagonal matrix.'\n",
    "            warnings.warn(messg, DiagWarning)\n",
    "        \n",
    "    def _analysis(self, xb, yo, R, H_func=None, loc_mo=None):\n",
    "        \"\"\"xb.shape = (n_dim, n_ens)\"\"\"\n",
    "        if H_func is None:\n",
    "            H_func = lambda arr: arr\n",
    "        \n",
    "        N_ens = xb.shape[1]\n",
    "        xb_mean = xb.mean(axis=1)[:,np.newaxis]   # (ndim_xb, 1)\n",
    "        xb_pertb = xb - xb_mean   # (ndim_xb, N_ens)\n",
    "        \n",
    "        # update `xb_mean`\n",
    "        Hxb_mean = H_func(xb).mean(axis=1)[:,np.newaxis]   # (ndim_yo, 1)\n",
    "        Hxb_pertb = H_func(xb) - Hxb_mean   # (ndim_yo, N_ens)\n",
    "        PfH_T = xb_pertb @ Hxb_pertb.T / (N_ens-1)\n",
    "        HPfH_T = Hxb_pertb @ Hxb_pertb.T / (N_ens-1)\n",
    "        K = loc_mo * PfH_T @ np.linalg.inv(HPfH_T + R)\n",
    "        xa_mean = xb_mean + K @ (yo - H_func(xb_mean))\n",
    "        \n",
    "        # update `xb_pertb`\n",
    "        xa_pertb = xb_pertb.copy()\n",
    "        for j_ens in range(N_ens):\n",
    "            # assimilate one observation at a time\n",
    "            for io, y in enumerate(yo):\n",
    "                iR = R[io,io]\n",
    "                iHxb_pertb = Hxb_pertb[[io],:]   # (1, N_ens)\n",
    "                \n",
    "                PfH_T = xb_pertb @ iHxb_pertb.T / (N_ens-1)\n",
    "                HPfH_T = iHxb_pertb @ iHxb_pertb.T / (N_ens-1)\n",
    "                gamma = 1 / (1 + np.sqrt(iR / (HPfH_T+iR)))\n",
    "                K = loc_mo[:,[io]] * PfH_T / (HPfH_T + iR)\n",
    "                \n",
    "                xa_pertb_j = xa_pertb[:,[j_ens]]\n",
    "                xa_pertb[:,[j_ens]] = xa_pertb_j - gamma * K * iHxb_pertb[0,j_ens]\n",
    "                \n",
    "        xa_ens = xa_mean + xa_pertb\n",
    "        return xa_ens\n",
    "        \n",
    "\n",
    "class ETKF(EnsembleBase):\n",
    "    \"\"\"\n",
    "    Ensemble Transform Kalman Filter\n",
    "    \n",
    "    It should note that localization is only used for updating ensemble mean \n",
    "    of K method (e.g etkf.cycle(mean_method='K')). There is no localization\n",
    "    for w method (e.g etkf.cycle(mean_method='w')).\n",
    "    \n",
    "    And localization is for ensemble mean only, there is no localization for \n",
    "    updating ensemble perturbation.\n",
    "    \n",
    "    *Reference\n",
    "    Update ensemble mean of w method:\n",
    "        Harlim and Hunt: Local Ensemble Transform Kalman Filter: An efficient\n",
    "        scheme for assimilating atmospheric data.\n",
    "        https://www.atmos.umd.edu/~ekalnay/pubs/harlim_hunt05.pdf\n",
    "    Update ensemble perturbation:\n",
    "        Tippett, M. K., J. L. Anderson, C. H. Bishop, T. M. Hamill, and J. S. \n",
    "        Whitaker, 2003: Ensemble square root filters.\n",
    "        https://journals.ametsoc.org/doi/pdf/10.1175/1520-0493%282003%29131%3C1485%3AESRF%3E2.0.CO%3B2      \n",
    "    \"\"\"\n",
    "    def _check_params(self):\n",
    "        # default setting\n",
    "        if self._params.get('local') is None:\n",
    "            ndim_model = self._params.get('X_ens_ini').shape[0]\n",
    "            ndim_obs = self._params.get('obs').shape[0]\n",
    "            loc_mo = np.ones((ndim_model, ndim_obs))\n",
    "            loc_oo = np.ones((ndim_obs, ndim_obs))\n",
    "            self._params['local'] = (loc_mo, loc_oo)            \n",
    "        \n",
    "        # check parameters\n",
    "        super()._check_params()\n",
    "    \n",
    "    def _analysis_mean_w(self, xb_mean, xb_pertb, Hxb_mean, Hxb_pertb, N_ens, yo, R):\n",
    "        \"\"\"\n",
    "        Using the w vector in Harlim and Hunt* to update background ensemble\n",
    "        mean to analysis mean.\n",
    "        *Reference: \n",
    "        https://www.atmos.umd.edu/~ekalnay/pubs/harlim_hunt05.pdf\n",
    "        \"\"\"\n",
    "        P_tilt = np.linalg.inv(Hxb_pertb.T @ np.linalg.inv(R) @ Hxb_pertb + (N_ens-1) * np.eye(N_ens))\n",
    "        w = P_tilt @ Hxb_pertb.T @ np.linalg.inv(R) @ (yo - Hxb_mean)\n",
    "        xa_mean = xb_mean + xb_pertb @ w\n",
    "        return xa_mean\n",
    "    \n",
    "    def _analysis_mean_K(self, xb_mean, xb_pertb, Hxb_pertb, N_ens, yo, R, H_func, loc_mo, loc_oo):\n",
    "        \"\"\"\n",
    "        Using the K matrix (Kalman gain matrix) in traditional Kalman filter to\n",
    "        upate background ensemble mean to analysis ensemble mean.\n",
    "        \"\"\"\n",
    "        PfH_T = xb_pertb @ Hxb_pertb.T / (N_ens-1)\n",
    "        HPfH_T = Hxb_pertb @ Hxb_pertb.T / (N_ens-1)\n",
    "        K = loc_mo * PfH_T @ np.linalg.inv(loc_oo * HPfH_T + R)\n",
    "        xa_mean = xb_mean + K @ (yo - H_func(xb_mean))\n",
    "        return xa_mean\n",
    "    \n",
    "    def _analysis_perturb(self, xb_pertb, Hxb_pertb, N_ens, R):\n",
    "        \"\"\"\n",
    "        Update background ensemble perturbation tp analysis ensemble perturbation.\n",
    "        *Reference:\n",
    "        https://journals.ametsoc.org/doi/pdf/10.1175/1520-0493%282003%29131%3C1485%3AESRF%3E2.0.CO%3B2\n",
    "        \"\"\"\n",
    "        Z = xb_pertb / np.sqrt(N_ens-1)\n",
    "        HZ = Hxb_pertb / np.sqrt(N_ens-1)\n",
    "        eigval, C = np.linalg.eig(HZ.T @ np.linalg.inv(R) @ HZ)\n",
    "        S = np.diag(eigval)\n",
    "        T = C @ np.linalg.inv(sqrtm(S+np.eye(N_ens)))\n",
    "        T = T.real   # imag part is likely due to numerical error\n",
    "        xa_pertb = xb_pertb @ T\n",
    "        return xa_pertb\n",
    "        \n",
    "    def _analysis(self, xb, yo, R, H_func, loc_mo, loc_oo, mean_method='w'):       \n",
    "        N_ens = xb.shape[1]\n",
    "        xb_mean = xb.mean(axis=1)[:,np.newaxis]   # (ndim_xb, 1)\n",
    "        xb_pertb = xb - xb_mean   # (ndim_xb, N_ens)\n",
    "        Hxb_mean = H_func(xb).mean(axis=1)[:,np.newaxis]   # (ndim_yo, 1)\n",
    "        Hxb_pertb = H_func(xb) - Hxb_mean   # (ndim_yo, N_ens)\n",
    "        \n",
    "        if mean_method == 'w':\n",
    "            xa_mean = self._analysis_mean_w(xb_mean, xb_pertb, Hxb_mean, Hxb_pertb, N_ens, yo, R)\n",
    "        elif mean_method == 'K':\n",
    "            xa_mean = self._analysis_mean_K(xb_mean, xb_pertb, Hxb_pertb, N_ens, yo, R, H_func, loc_mo, loc_oo)\n",
    "        else:\n",
    "            raise TypeError('`mean_method` should be \"w\" or \"K\"')\n",
    "            \n",
    "        xa_pertb = self._analysis_perturb(xb_pertb, Hxb_pertb, N_ens, R)\n",
    "        xa = xa_mean + xa_pertb\n",
    "        return xa\n",
    "    \n",
    "    def cycle(self, mean_method='w'):\n",
    "        super().cycle(mean_method=mean_method)\n",
    "        \n",
    "\n",
    "class EAKF(EnsembleBase): \n",
    "    def _check_params(self):\n",
    "        # default setting\n",
    "        if self._params.get('local') is None:\n",
    "            ndim_model = self._params.get('X_ens_ini').shape[0]\n",
    "            ndim_obs = self._params.get('obs').shape[0]\n",
    "            loc_mo = np.ones((ndim_model, ndim_obs))\n",
    "            self._params['local'] = (loc_mo,)            \n",
    "        \n",
    "        # check parameters\n",
    "        super()._check_params()\n",
    "    \n",
    "    def _analysis(self, xb, yo, R, H_func, loc_mo):            \n",
    "        N_x, N_ens = xb.shape\n",
    "        \n",
    "        # serially assimilation\n",
    "        xa = xb.copy()\n",
    "        for io, iyo in enumerate(yo):\n",
    "            ### step 1\n",
    "            # estimate background field at the observation space\n",
    "            yp = np.empty(N_ens)\n",
    "            for iens in range(N_ens):\n",
    "                yp[iens] = H_func(xa[:,[iens]])[io]\n",
    "                \n",
    "            # analysis for the background field at the observation space\n",
    "            yp_mean = yp.mean()\n",
    "            yp_var = yp.var()\n",
    "            r = R[io,io]\n",
    "            yu_var = 1 / (1/yp_var + 1/r)\n",
    "            yu_mean = yu_var * (yp_mean / yp_var + iyo / r)\n",
    "            yu = np.sqrt(yu_var / yp_var) * (yp - yp_mean) + yu_mean   # (N_ens,)\n",
    "            increment_y = yu - yp   # (N_ens,)\n",
    "            \n",
    "            ### step 2 \n",
    "            for jstate in range(N_x):\n",
    "                cov_xy = np.cov(xa[jstate,:], yp)[0,1]\n",
    "                increment_x = cov_xy / yp_var * increment_y\n",
    "                xa[jstate,:] = xa[jstate,:] + loc_mo[jstate,io] * increment_x\n",
    "                \n",
    "        return xa"
   ]
  },
  {
   "cell_type": "code",
   "execution_count": null,
   "metadata": {},
   "outputs": [],
   "source": []
  },
  {
   "cell_type": "code",
   "execution_count": null,
   "metadata": {},
   "outputs": [],
   "source": []
  },
  {
   "cell_type": "code",
   "execution_count": 69,
   "metadata": {},
   "outputs": [
    {
     "name": "stdout",
     "output_type": "stream",
     "text": [
      "EnKF, Mean RMSE:  0.9243545327693744\n",
      "EnSRF, Mean RMSE:  0.9292253430166725\n",
      "ETKF, Mean RMSE:  0.9455102571885583\n",
      "EAKF, Mean RMSE:  0.8809343997581277\n"
     ]
    }
   ],
   "source": [
    "for Da in [EnKF, EnSRF, ETKF, EAKF]:\n",
    "    da = Da(lorenz63_fdm, dt)\n",
    "    params = {\n",
    "        'X_ens_ini': X_ens_ini,\n",
    "        'obs': obs,\n",
    "        'obs_interv': obs_intv,\n",
    "        'R': R,\n",
    "        'H_func': lambda arr: arr,\n",
    "        'alpha': 0.4,\n",
    "        'inflat': 1.5,\n",
    "    }\n",
    "    da.set_params(**params)\n",
    "    da.cycle()\n",
    "    analysis = da.analysis.mean(axis=0)\n",
    "    \n",
    "    name = da.__str__().split('.')[1].split()[0]\n",
    "    print(name + ', Mean RMSE: ', da_rmse(nature, analysis, obs_intv).mean())"
   ]
  },
  {
   "cell_type": "code",
   "execution_count": null,
   "metadata": {},
   "outputs": [],
   "source": []
  },
  {
   "cell_type": "code",
   "execution_count": null,
   "metadata": {},
   "outputs": [],
   "source": []
  },
  {
   "cell_type": "code",
   "execution_count": null,
   "metadata": {},
   "outputs": [],
   "source": []
  },
  {
   "cell_type": "code",
   "execution_count": null,
   "metadata": {},
   "outputs": [],
   "source": []
  },
  {
   "cell_type": "code",
   "execution_count": null,
   "metadata": {},
   "outputs": [],
   "source": []
  },
  {
   "cell_type": "code",
   "execution_count": null,
   "metadata": {},
   "outputs": [],
   "source": []
  },
  {
   "cell_type": "code",
   "execution_count": null,
   "metadata": {},
   "outputs": [],
   "source": []
  },
  {
   "cell_type": "code",
   "execution_count": 78,
   "metadata": {},
   "outputs": [],
   "source": [
    "from model import lorenz96_fdm\n",
    "\n",
    "x0 = np.random.randint(low=0, high=9, size=40)\n",
    "x0 = x0[:,np.newaxis]  # (40, 1)\n",
    "end_time = 10\n",
    "dt = 0.01\n",
    "ts = np.arange(0, end_time, dt)\n",
    "nature = lorenz96_fdm(x0, ts)\n",
    "\n",
    "Pb = nmc(lorenz96_fdm, nature, dt, 1, 0.1)\n",
    "\n",
    "obs_intv = 8\n",
    "obs = nature + np.sqrt(2) * np.random.randn(*nature.shape)\n",
    "obs = obs[:,::obs_intv]\n",
    "\n",
    "R = np.eye(40) * 2\n",
    "\n",
    "X_ini = x0 + np.random.randint(-15, 15, size=x0.shape)\n",
    "N_ens = 30\n",
    "X_ens_ini = np.random.multivariate_normal(X_ini.ravel(), Pb, size=N_ens).T  # (ndim, N_ens)"
   ]
  },
  {
   "cell_type": "code",
   "execution_count": 79,
   "metadata": {},
   "outputs": [],
   "source": [
    "def dis_oo(i, j, L=2):\n",
    "    if j < i:\n",
    "        i, j = j, i\n",
    "    dis_idx = j - i\n",
    "    if dis_idx > 20:\n",
    "        dis_idx = 40 - dis_idx\n",
    "    return np.exp(-dis_idx**2 / (2*L**2))\n",
    "\n",
    "def dis_mo(i, j, L=2):\n",
    "    return dis_oo(i, j, L)\n",
    "\n",
    "# localization for model to observation\n",
    "loc1 = np.zeros((40, 40))\n",
    "for i in range(40):\n",
    "    for j in range(40):\n",
    "        loc1[i,j] = dis_mo(i, j)\n",
    "        \n",
    "# localization for observation to observation\n",
    "loc2 = np.zeros((40, 40))\n",
    "for i in range(40):\n",
    "    for j in range(40):\n",
    "        loc2[i,j] = dis_oo(i, j)"
   ]
  },
  {
   "cell_type": "code",
   "execution_count": 82,
   "metadata": {},
   "outputs": [
    {
     "name": "stdout",
     "output_type": "stream",
     "text": [
      "EnKF, Mean RMSE:  0.8909476288643613\n"
     ]
    },
    {
     "name": "stderr",
     "output_type": "stream",
     "text": [
      "C:\\Users\\ChunYehLu\\work\\SideProject\\Data-Assimilation\\model.py:87: RuntimeWarning: overflow encountered in multiply\n",
      "  x[:,idx+1] = xn + dt * ((xn_p1-xn_m2) * xn_m1 - xn + F)\n",
      "C:\\Users\\ChunYehLu\\work\\SideProject\\Data-Assimilation\\model.py:87: RuntimeWarning: invalid value encountered in subtract\n",
      "  x[:,idx+1] = xn + dt * ((xn_p1-xn_m2) * xn_m1 - xn + F)\n",
      "C:\\Users\\ChunYehLu\\work\\SideProject\\Data-Assimilation\\model.py:87: RuntimeWarning: invalid value encountered in add\n",
      "  x[:,idx+1] = xn + dt * ((xn_p1-xn_m2) * xn_m1 - xn + F)\n",
      "C:\\Users\\ChunYehLu\\AppData\\Local\\Continuum\\anaconda3\\envs\\as\\lib\\site-packages\\ipykernel_launcher.py:174: RuntimeWarning: invalid value encountered in subtract\n",
      "C:\\Users\\ChunYehLu\\AppData\\Local\\Continuum\\anaconda3\\envs\\as\\lib\\site-packages\\ipykernel_launcher.py:178: RuntimeWarning: invalid value encountered in subtract\n",
      "C:\\Users\\ChunYehLu\\AppData\\Local\\Continuum\\anaconda3\\envs\\as\\lib\\site-packages\\numpy\\core\\_methods.py:75: RuntimeWarning: invalid value encountered in reduce\n",
      "  ret = umr_sum(arr, axis, dtype, out, keepdims)\n"
     ]
    },
    {
     "name": "stdout",
     "output_type": "stream",
     "text": [
      "EnSRF, Mean RMSE:  nan\n",
      "ETKF, Mean RMSE:  1.0315854228246675\n",
      "EAKF, Mean RMSE:  0.8940079644399174\n"
     ]
    }
   ],
   "source": [
    "for Da in [EnKF, EnSRF, ETKF, EAKF]:\n",
    "    da = Da(lorenz96_fdm, dt)\n",
    "    params = {\n",
    "        'X_ens_ini': X_ens_ini,\n",
    "        'obs': obs,\n",
    "        'obs_interv': obs_intv,\n",
    "        'R': R,\n",
    "        'H_func': lambda arr: arr,\n",
    "        'alpha': 0.4,\n",
    "        'inflat': 1.5,\n",
    "        'local': (loc1, loc2)\n",
    "    }\n",
    "    if Da in [EnKF, ETKF]:\n",
    "        params['local'] = (loc1, loc2)\n",
    "    else:\n",
    "        params['local'] = (loc1,)\n",
    "    da.set_params(**params)\n",
    "    \n",
    "    if Da is ETKF:\n",
    "        da.cycle(mean_method='K')\n",
    "    else:\n",
    "        da.cycle()\n",
    "    analysis = da.analysis.mean(axis=0)\n",
    "    \n",
    "    name = da.__str__().split('.')[1].split()[0]\n",
    "    print(name + ', Mean RMSE: ', da_rmse(nature, analysis, obs_intv).mean())"
   ]
  },
  {
   "cell_type": "code",
   "execution_count": null,
   "metadata": {},
   "outputs": [],
   "source": []
  }
 ],
 "metadata": {
  "kernelspec": {
   "display_name": "Python 3",
   "language": "python",
   "name": "python3"
  },
  "language_info": {
   "codemirror_mode": {
    "name": "ipython",
    "version": 3
   },
   "file_extension": ".py",
   "mimetype": "text/x-python",
   "name": "python",
   "nbconvert_exporter": "python",
   "pygments_lexer": "ipython3",
   "version": "3.7.4"
  }
 },
 "nbformat": 4,
 "nbformat_minor": 4
}
