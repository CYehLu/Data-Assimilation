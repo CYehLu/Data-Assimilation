{
 "cells": [
  {
   "cell_type": "code",
   "execution_count": 2,
   "metadata": {},
   "outputs": [],
   "source": [
    "%matplotlib inline\n",
    "import numpy as np\n",
    "import matplotlib.pyplot as plt\n",
    "\n",
    "from assimilation import OI\n",
    "from nmc import nmc\n",
    "from model import lorenz63_fdm"
   ]
  },
  {
   "cell_type": "code",
   "execution_count": 3,
   "metadata": {},
   "outputs": [],
   "source": [
    "x0 = np.array([8, 0, 30])\n",
    "dt = 0.01\n",
    "ts = np.arange(0, 16, dt)\n",
    "nature = lorenz63_fdm(x0, ts)"
   ]
  },
  {
   "cell_type": "code",
   "execution_count": 26,
   "metadata": {},
   "outputs": [
    {
     "data": {
      "text/plain": [
       "(3, 200)"
      ]
     },
     "execution_count": 26,
     "metadata": {},
     "output_type": "execute_result"
    }
   ],
   "source": [
    "obs_intv = 8\n",
    "obs = nature + np.sqrt(2) * np.random.randn(*nature.shape)\n",
    "obs = obs[:,::obs_intv]\n",
    "obs.shape"
   ]
  },
  {
   "cell_type": "code",
   "execution_count": 16,
   "metadata": {},
   "outputs": [
    {
     "data": {
      "text/plain": [
       "array([[ 97.50960296, 107.29952538, -95.45925028],\n",
       "       [107.29952538, 140.4666391 , -92.37667865],\n",
       "       [-95.45925028, -92.37667865, 129.80552473]])"
      ]
     },
     "execution_count": 16,
     "metadata": {},
     "output_type": "execute_result"
    }
   ],
   "source": [
    "nmc(lorenz63_fdm, nature, dt, 2)"
   ]
  },
  {
   "cell_type": "code",
   "execution_count": 31,
   "metadata": {},
   "outputs": [],
   "source": [
    "def iterative_nmc(assim, R, Pb_ini=None, niter=50, mean_ratio=0.5):\n",
    "    \"\"\"\n",
    "    Using iterative NMC method to estimate background error covariance.\n",
    "    \n",
    "    Parameters:\n",
    "    ----------\n",
    "    model: callable function\n",
    "        Same as the `model` parameter of `nmc`.\n",
    "    assim: assimilation object\n",
    "        The prepared assimilation object, which have been set the parameters except `Pb`.\n",
    "    R: 2d ndarray\n",
    "        The observation error covariance matrix.\n",
    "    Pb_ini: 2d ndarray\n",
    "        Initial background error covariance matrix. Default is `R`.\n",
    "    niter: int\n",
    "        The number of iterations. Default is 50.\n",
    "    mean_ratio: float\n",
    "        The ratio of Pb in each iterations which would take the average as the final Pb\n",
    "        result.  `mean_ratio` should in the range of (0, 1]. Default is 0.5\n",
    "        \n",
    "    Return:\n",
    "    ------\n",
    "    Background error covariance matrix.\n",
    "    \n",
    "    \n",
    "    Example:\n",
    "    from assimilation import OI\n",
    "    from model import lorenz63_fdm\n",
    "    ##########################################################\n",
    "    ### set observations (obs) and initial condition (x0) here\n",
    "    ##########################################################\n",
    "    R = np.eye(3) * 2\n",
    "    oi = OI(lorenz63_fdm, 0.01)\n",
    "    # set OI parameters except Pb\n",
    "    oi.set_params(\n",
    "        X_ini=x0,\n",
    "        obs=obs,\n",
    "        obs_interv=8,\n",
    "        R=R,\n",
    "        H_func=lambda arr: arr,\n",
    "        H=np.eye(3)\n",
    "    )\n",
    "    Pb = iterative_nmc(lorenz63_fdm, oi, R)\n",
    "    print('estimated Pb: ', Pb)\n",
    "    \"\"\"\n",
    "    if Pb_ini is None:\n",
    "        Pb_ini = R\n",
    "        \n",
    "    model = assim.model\n",
    "    dt = assim.dt\n",
    "    \n",
    "    Pb = Pb_ini.copy()\n",
    "    Pb_result = np.zeros_like(Pb)\n",
    "    count = 0\n",
    "    for i in range(niter):\n",
    "        assim.set_params(Pb=Pb)\n",
    "        assim.cycle()\n",
    "        ref = assim.analysis\n",
    "        Pb = nmc(model, ref, dt, 10*dt)\n",
    "        \n",
    "        if i/niter > mean_ratio:\n",
    "            Pb_result += Pb\n",
    "            count += 1\n",
    "            \n",
    "    Pb_result /= count\n",
    "    return Pb_result"
   ]
  },
  {
   "cell_type": "code",
   "execution_count": 32,
   "metadata": {},
   "outputs": [
    {
     "data": {
      "text/plain": [
       "array([[120.22244195, 111.41807452,  23.12903152],\n",
       "       [111.41807452, 395.49864557,   1.33099542],\n",
       "       [ 23.12903152,   1.33099542, 250.09673637]])"
      ]
     },
     "execution_count": 32,
     "metadata": {},
     "output_type": "execute_result"
    }
   ],
   "source": [
    "oi = OI(lorenz63_fdm, dt)\n",
    "oi.set_params(\n",
    "    X_ini=np.array([[8, 0.1, 30.2]]).T,\n",
    "    obs=obs,\n",
    "    obs_interv=obs_intv,\n",
    "    R=2*np.eye(3),\n",
    "    H_func=lambda arr: arr,\n",
    "    H=np.eye(3)\n",
    ")\n",
    "iterative_nmc(oi, 2*np.eye(3))"
   ]
  },
  {
   "cell_type": "code",
   "execution_count": null,
   "metadata": {},
   "outputs": [],
   "source": []
  }
 ],
 "metadata": {
  "kernelspec": {
   "display_name": "Python 3",
   "language": "python",
   "name": "python3"
  },
  "language_info": {
   "codemirror_mode": {
    "name": "ipython",
    "version": 3
   },
   "file_extension": ".py",
   "mimetype": "text/x-python",
   "name": "python",
   "nbconvert_exporter": "python",
   "pygments_lexer": "ipython3",
   "version": "3.7.4"
  }
 },
 "nbformat": 4,
 "nbformat_minor": 4
}
