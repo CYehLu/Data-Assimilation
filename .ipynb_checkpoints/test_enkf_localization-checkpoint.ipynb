{
 "cells": [
  {
   "cell_type": "code",
   "execution_count": 1,
   "metadata": {},
   "outputs": [],
   "source": [
    "%matplotlib inline\n",
    "import numpy as np\n",
    "import matplotlib.pyplot as plt\n",
    "\n",
    "from model import lorenz96_fdm\n",
    "from assimilation import EnKF\n",
    "from nmc import nmc"
   ]
  },
  {
   "cell_type": "code",
   "execution_count": 2,
   "metadata": {},
   "outputs": [],
   "source": [
    "def da_rmse(nature, analysis, obs_intv):\n",
    "    return np.sqrt(np.mean((analysis[:,::obs_intv] - nature[:,::obs_intv]) ** 2, axis=0))"
   ]
  },
  {
   "cell_type": "code",
   "execution_count": 3,
   "metadata": {},
   "outputs": [
    {
     "data": {
      "text/plain": [
       "(40, 1000)"
      ]
     },
     "execution_count": 3,
     "metadata": {},
     "output_type": "execute_result"
    }
   ],
   "source": [
    "x0 = np.random.randint(low=0, high=9, size=40)\n",
    "x0 = x0[:,np.newaxis]  # (40, 1)\n",
    "end_time = 10\n",
    "dt = 0.01\n",
    "ts = np.arange(0, end_time, dt)\n",
    "nature = lorenz96_fdm(x0, ts)\n",
    "nature.shape"
   ]
  },
  {
   "cell_type": "code",
   "execution_count": 4,
   "metadata": {},
   "outputs": [
    {
     "data": {
      "text/plain": [
       "array([[ 0.88443005, -0.03088796, -0.29846432, ...,  0.06848423,\n",
       "        -0.52221145,  0.79362741],\n",
       "       [-0.03088796,  0.92681363,  0.29789539, ..., -0.84231702,\n",
       "         0.39693214, -0.02515091],\n",
       "       [-0.29846432,  0.29789539,  3.34885286, ..., -2.30951948,\n",
       "        -0.00542641,  0.29916183],\n",
       "       ...,\n",
       "       [ 0.06848423, -0.84231702, -2.30951948, ...,  3.8241301 ,\n",
       "         0.73449628, -0.22869265],\n",
       "       [-0.52221145,  0.39693214, -0.00542641, ...,  0.73449628,\n",
       "         2.51490357, -0.82694925],\n",
       "       [ 0.79362741, -0.02515091,  0.29916183, ..., -0.22869265,\n",
       "        -0.82694925,  1.14480576]])"
      ]
     },
     "execution_count": 4,
     "metadata": {},
     "output_type": "execute_result"
    }
   ],
   "source": [
    "Pb = nmc(lorenz96_fdm, nature, dt, 1, 0.1)\n",
    "Pb"
   ]
  },
  {
   "cell_type": "code",
   "execution_count": 5,
   "metadata": {},
   "outputs": [
    {
     "data": {
      "text/plain": [
       "(40, 125)"
      ]
     },
     "execution_count": 5,
     "metadata": {},
     "output_type": "execute_result"
    }
   ],
   "source": [
    "obs_intv = 8\n",
    "obs = nature + np.sqrt(2) * np.random.randn(*nature.shape)\n",
    "obs = obs[:,::obs_intv]\n",
    "obs.shape"
   ]
  },
  {
   "cell_type": "code",
   "execution_count": 6,
   "metadata": {},
   "outputs": [
    {
     "data": {
      "text/plain": [
       "array([[2., 0., 0., ..., 0., 0., 0.],\n",
       "       [0., 2., 0., ..., 0., 0., 0.],\n",
       "       [0., 0., 2., ..., 0., 0., 0.],\n",
       "       ...,\n",
       "       [0., 0., 0., ..., 2., 0., 0.],\n",
       "       [0., 0., 0., ..., 0., 2., 0.],\n",
       "       [0., 0., 0., ..., 0., 0., 2.]])"
      ]
     },
     "execution_count": 6,
     "metadata": {},
     "output_type": "execute_result"
    }
   ],
   "source": [
    "R = np.eye(40) * 2\n",
    "R"
   ]
  },
  {
   "cell_type": "code",
   "execution_count": null,
   "metadata": {},
   "outputs": [],
   "source": []
  },
  {
   "cell_type": "code",
   "execution_count": 7,
   "metadata": {},
   "outputs": [],
   "source": [
    "X_ini = x0 + np.random.randint(-15, 15, size=x0.shape)\n",
    "N_ens = 30\n",
    "X_ens_ini = np.random.multivariate_normal(X_ini.ravel(), Pb, size=N_ens).T  # (ndim, N_ens)"
   ]
  },
  {
   "cell_type": "code",
   "execution_count": 8,
   "metadata": {},
   "outputs": [],
   "source": [
    "enkf = EnKF(lorenz96_fdm, dt)\n",
    "params = {\n",
    "    'X_ens_ini': X_ens_ini,\n",
    "    'obs': obs,\n",
    "    'obs_interv': obs_intv,\n",
    "    'R': R,\n",
    "    'H_func': lambda arr: arr,\n",
    "    'alpha': 0.3,\n",
    "    'inflat': 1.5\n",
    "}\n",
    "enkf.set_params(**params)\n",
    "enkf.cycle()"
   ]
  },
  {
   "cell_type": "code",
   "execution_count": 9,
   "metadata": {},
   "outputs": [
    {
     "name": "stdout",
     "output_type": "stream",
     "text": [
      "1.98382204908805\n"
     ]
    },
    {
     "data": {
      "image/png": "[encoded data removed]",
      "text/plain": [
       "<Figure size 432x288 with 1 Axes>"
      ]
     },
     "metadata": {
      "needs_background": "light"
     },
     "output_type": "display_data"
    }
   ],
   "source": [
    "ensmean = enkf.analysis.mean(axis=0)\n",
    "\n",
    "rmse = da_rmse(nature, ensmean, obs_intv)\n",
    "plt.plot(rmse)\n",
    "print(rmse.mean())"
   ]
  },
  {
   "cell_type": "code",
   "execution_count": null,
   "metadata": {},
   "outputs": [],
   "source": []
  },
  {
   "cell_type": "code",
   "execution_count": null,
   "metadata": {},
   "outputs": [],
   "source": []
  },
  {
   "cell_type": "code",
   "execution_count": null,
   "metadata": {},
   "outputs": [],
   "source": []
  },
  {
   "cell_type": "code",
   "execution_count": 10,
   "metadata": {},
   "outputs": [],
   "source": [
    "class DAbase:\n",
    "    def __init__(self, model, dt, store_history=False):\n",
    "        self._isstore = store_history\n",
    "        self._params = {'alpha': 0, 'inflat': 1}\n",
    "        self.model = model\n",
    "        self.dt = dt\n",
    "        self.X_ini = None\n",
    "        \n",
    "    def set_params(self, param_list, **kwargs):\n",
    "        for key, value in kwargs.items():\n",
    "            if key in param_list:\n",
    "                self._params[key] = kwargs.get(key)\n",
    "            else:\n",
    "                raise ValueError(f'Invalid parameter: {key}')\n",
    "        \n",
    "    def _check_params(self, param_list):\n",
    "        missing_params = []\n",
    "        for var in param_list:\n",
    "            if self._params.get(var) is None:\n",
    "                missing_params.append(var)\n",
    "        return missing_params\n",
    "    \n",
    "    \n",
    "class EnKF(DAbase):\n",
    "    def __init__(self, model, dt, store_history=False):\n",
    "        super().__init__(model, dt, store_history)\n",
    "        self._param_list = [\n",
    "            'X_ens_ini', \n",
    "            'obs', \n",
    "            'obs_interv', \n",
    "            'R', \n",
    "            'H_func', \n",
    "            'alpha', \n",
    "            'inflat'\n",
    "        ]\n",
    "        \n",
    "    def list_params(self):\n",
    "        return self._param_list\n",
    "        \n",
    "    def set_params(self, **kwargs):\n",
    "        super().set_params(self._param_list, **kwargs)\n",
    "        \n",
    "    def _check_params(self):\n",
    "        if self._params.get('H_func') is None:\n",
    "            H_func = lambda arr: arr\n",
    "            self._params['H_func'] = H_func\n",
    "            \n",
    "        missing_params = super()._check_params(self._param_list)\n",
    "        if missing_params:\n",
    "            raise ValueError(f\"Missing parameters: {missing_params}\")\n",
    "            \n",
    "    def _analysis(self, xb, yo, R, H_func=None, loc_mo=None, loc_oo=None):\n",
    "        \"\"\"xb.shape = (n_dim, n_ens)\"\"\"\n",
    "        if H_func is None:\n",
    "            H_func = lambda arr: arr\n",
    "        \n",
    "        N_ens = xb.shape[1]\n",
    "        yo_ens = np.random.multivariate_normal(yo.ravel(), R, size=N_ens).T  # (ndim_yo, N_ens)\n",
    "        xb_mean = xb.mean(axis=1)[:,np.newaxis]  # (ndim_xb, 1)\n",
    "        \n",
    "        xa_ens = np.zeros((xb.shape[0], N_ens))\n",
    "        for iens in range(N_ens):\n",
    "            xb_mean = xb.mean(axis=1)[:,np.newaxis]\n",
    "            Xb_perturb = xb - xb_mean\n",
    "            HXb_perturb = H_func(Xb_perturb) - H_func(Xb_perturb).mean(axis=1)[:,np.newaxis]\n",
    "            \n",
    "            PfH_T = Xb_perturb @ HXb_perturb.T / (N_ens-1)\n",
    "            HPfH_T = HXb_perturb @ HXb_perturb.T / (N_ens-1)\n",
    "            K = loc_mo * PfH_T @ np.linalg.inv(loc_oo * HPfH_T + R)\n",
    "            xa_ens[:,[iens]] = xb[:,[iens]] + K @ (yo_ens[:,[iens]] - H_func(xb[:,[iens]]))\n",
    "            \n",
    "        return xa_ens\n",
    "    \n",
    "    def cycle(self, loc_mo, loc_oo):\n",
    "        self._check_params()\n",
    "        \n",
    "        model = self.model\n",
    "        dt = self.dt\n",
    "        cycle_len = self._params['obs_interv']\n",
    "        cycle_num = self._params['obs'].shape[1]\n",
    "        \n",
    "        xb = self._params['X_ens_ini'].copy()\n",
    "        obs = self._params['obs']\n",
    "        R = self._params['R']\n",
    "        H_func = self._params['H_func']\n",
    "        alpha = self._params['alpha']\n",
    "        inflat = self._params['inflat']\n",
    "        \n",
    "        ndim, N_ens = xb.shape\n",
    "        background = np.zeros((N_ens, ndim, cycle_len*cycle_num))\n",
    "        analysis = np.zeros_like(background)\n",
    "        \n",
    "        t_start = 0\n",
    "        ts = np.linspace(t_start, (cycle_len-1)*dt, cycle_len)\n",
    "        \n",
    "        for nc in range(cycle_num):\n",
    "            # analysis\n",
    "            xa = self._analysis(xb, obs[:,[nc]], R, H_func, loc_mo, loc_oo)\n",
    "            \n",
    "            # inflat\n",
    "            xa_perturb = xa - xa.mean(axis=1)[:,np.newaxis]\n",
    "            xa_perturb *= inflat\n",
    "            xa = xa.mean(axis=1)[:,np.newaxis] + xa_perturb\n",
    "            \n",
    "            # ensemble forecast\n",
    "            for iens in range(N_ens):\n",
    "                x_forecast = model(xa[:,iens], ts)   # (ndim, ts.size)\n",
    "                \n",
    "                idx1 = nc*cycle_len\n",
    "                idx2 = (nc+1)*cycle_len\n",
    "                analysis[iens,:,idx1:idx2] = x_forecast\n",
    "                background[iens,:,[idx1]] = xb[:,iens]\n",
    "                background[iens,:,(idx1+1):idx2] = x_forecast[:,1:]\n",
    "                \n",
    "                # xb for next cycle\n",
    "                xb[:,iens] = x_forecast[:,-1]\n",
    "                \n",
    "            # for next cycle\n",
    "            t_start = int(ts[-1] + dt)\n",
    "            ts = np.linspace(t_start, t_start+(cycle_len-1)*dt, cycle_len)\n",
    "            \n",
    "        self.background = background\n",
    "        self.analysis = analysis"
   ]
  },
  {
   "cell_type": "markdown",
   "metadata": {},
   "source": [
    "### localization with full observation"
   ]
  },
  {
   "cell_type": "code",
   "execution_count": 11,
   "metadata": {},
   "outputs": [
    {
     "data": {
      "text/plain": [
       "0.011108996538242306"
      ]
     },
     "execution_count": 11,
     "metadata": {},
     "output_type": "execute_result"
    }
   ],
   "source": [
    "def dis_oo(i, j, L=2):\n",
    "    if j < i:\n",
    "        i, j = j, i\n",
    "    dis_idx = j - i\n",
    "    if dis_idx > 20:\n",
    "        dis_idx = 40 - dis_idx\n",
    "    return np.exp(-dis_idx**2 / (2*L**2))\n",
    "\n",
    "dis_oo(2, 8)"
   ]
  },
  {
   "cell_type": "code",
   "execution_count": 12,
   "metadata": {},
   "outputs": [],
   "source": [
    "def dis_mo(i, j, L=2):\n",
    "    return dis_oo(i, j, L)"
   ]
  },
  {
   "cell_type": "code",
   "execution_count": 13,
   "metadata": {},
   "outputs": [],
   "source": [
    "# localization for model to observation\n",
    "loc1 = np.zeros((40, 40))\n",
    "for i in range(40):\n",
    "    for j in range(40):\n",
    "        loc1[i,j] = dis_mo(i, j)\n",
    "        \n",
    "# localization for observation to observation\n",
    "loc2 = np.zeros((40, 40))\n",
    "for i in range(40):\n",
    "    for j in range(40):\n",
    "        loc2[i,j] = dis_oo(i, j)"
   ]
  },
  {
   "cell_type": "code",
   "execution_count": null,
   "metadata": {},
   "outputs": [],
   "source": []
  },
  {
   "cell_type": "code",
   "execution_count": 14,
   "metadata": {},
   "outputs": [],
   "source": [
    "enkf = EnKF(lorenz96_fdm, dt)\n",
    "params = {\n",
    "    'X_ens_ini': X_ens_ini,\n",
    "    'obs': obs,\n",
    "    'obs_interv': obs_intv,\n",
    "    'R': R,\n",
    "    'H_func': lambda arr: arr,\n",
    "    'alpha': 0.3,\n",
    "    'inflat': 1.5\n",
    "}\n",
    "enkf.set_params(**params)\n",
    "enkf.cycle(loc1, loc2)"
   ]
  },
  {
   "cell_type": "code",
   "execution_count": 15,
   "metadata": {},
   "outputs": [
    {
     "name": "stdout",
     "output_type": "stream",
     "text": [
      "0.9524831725653226\n"
     ]
    },
    {
     "data": {
      "image/png": "[encoded data removed]",
      "text/plain": [
       "<Figure size 432x288 with 1 Axes>"
      ]
     },
     "metadata": {
      "needs_background": "light"
     },
     "output_type": "display_data"
    }
   ],
   "source": [
    "ensmean = enkf.analysis.mean(axis=0)\n",
    "\n",
    "rmse = da_rmse(nature, ensmean, obs_intv)\n",
    "plt.plot(rmse)\n",
    "print(rmse.mean())"
   ]
  },
  {
   "cell_type": "code",
   "execution_count": null,
   "metadata": {},
   "outputs": [],
   "source": []
  },
  {
   "cell_type": "code",
   "execution_count": null,
   "metadata": {},
   "outputs": [],
   "source": []
  },
  {
   "cell_type": "markdown",
   "metadata": {},
   "source": [
    "### localization with partial observation (only assimilate variable 1, 3, 5, ..., 39)"
   ]
  },
  {
   "cell_type": "code",
   "execution_count": 16,
   "metadata": {},
   "outputs": [],
   "source": [
    "## no localization"
   ]
  },
  {
   "cell_type": "code",
   "execution_count": 17,
   "metadata": {},
   "outputs": [
    {
     "data": {
      "text/plain": [
       "(20, 125)"
      ]
     },
     "execution_count": 17,
     "metadata": {},
     "output_type": "execute_result"
    }
   ],
   "source": [
    "pobs = obs[::2,:]\n",
    "pobs.shape"
   ]
  },
  {
   "cell_type": "code",
   "execution_count": 18,
   "metadata": {},
   "outputs": [],
   "source": [
    "loc1 = np.ones((40, 20))\n",
    "loc2 = np.ones((20, 20))"
   ]
  },
  {
   "cell_type": "code",
   "execution_count": 20,
   "metadata": {},
   "outputs": [],
   "source": [
    "enkf = EnKF(lorenz96_fdm, dt)\n",
    "params = {\n",
    "    'X_ens_ini': X_ens_ini,\n",
    "    'obs': pobs,\n",
    "    'obs_interv': obs_intv,\n",
    "    'R': 2 * np.eye(20),\n",
    "    'H_func': lambda arr: arr[::2,:],\n",
    "    'alpha': 0.3,\n",
    "    'inflat': 1.2\n",
    "}\n",
    "enkf.set_params(**params)\n",
    "enkf.cycle(loc1, loc2)"
   ]
  },
  {
   "cell_type": "code",
   "execution_count": 21,
   "metadata": {},
   "outputs": [
    {
     "name": "stdout",
     "output_type": "stream",
     "text": [
      "3.033156240002151\n"
     ]
    },
    {
     "data": {
      "image/png": "[encoded data removed]",
      "text/plain": [
       "<Figure size 432x288 with 1 Axes>"
      ]
     },
     "metadata": {
      "needs_background": "light"
     },
     "output_type": "display_data"
    }
   ],
   "source": [
    "ensmean = enkf.analysis.mean(axis=0)\n",
    "\n",
    "rmse = da_rmse(nature, ensmean, obs_intv)\n",
    "plt.plot(rmse)\n",
    "print(rmse.mean())"
   ]
  },
  {
   "cell_type": "code",
   "execution_count": null,
   "metadata": {},
   "outputs": [],
   "source": []
  },
  {
   "cell_type": "code",
   "execution_count": 22,
   "metadata": {},
   "outputs": [],
   "source": [
    "## with localization"
   ]
  },
  {
   "cell_type": "code",
   "execution_count": 23,
   "metadata": {},
   "outputs": [],
   "source": [
    "def dis_mo(i, j, L=2):\n",
    "    \"\"\"i: model space, j: obs space\"\"\"\n",
    "    j = j * 2 - 1    # convert j into model space\n",
    "    dis_idx = min(abs(i-j), 40-abs(i-j))\n",
    "    return np.exp(-dis_idx**2 / (2*L**2))\n",
    "    \n",
    "def dis_oo(i, j, L=2): \n",
    "    dis_idx = min(abs(i-j), 20-abs(i-j))\n",
    "    dis_idx = dis_idx * 2\n",
    "    return np.exp(-dis_idx**2 / (2*L**2))\n",
    "\n",
    "\n",
    "loc1 = np.zeros((40, 20))\n",
    "for i in range(40):\n",
    "    for j in range(20):\n",
    "        loc1[i,j] = dis_mo(i, j)\n",
    "\n",
    "loc2 = np.zeros((20, 20))        \n",
    "for i in range(20):\n",
    "    for j in range(20):\n",
    "        loc2[i,j] = dis_oo(i, j)"
   ]
  },
  {
   "cell_type": "code",
   "execution_count": 24,
   "metadata": {},
   "outputs": [],
   "source": [
    "enkf = EnKF(lorenz96_fdm, dt)\n",
    "params = {\n",
    "    'X_ens_ini': X_ens_ini,\n",
    "    'obs': pobs,\n",
    "    'obs_interv': obs_intv,\n",
    "    'R': 2 * np.eye(20),\n",
    "    'H_func': lambda arr: arr[::2,:],\n",
    "    'alpha': 0.3,\n",
    "    'inflat': 1.2\n",
    "}\n",
    "enkf.set_params(**params)\n",
    "enkf.cycle(loc1, loc2)"
   ]
  },
  {
   "cell_type": "code",
   "execution_count": 25,
   "metadata": {},
   "outputs": [
    {
     "name": "stdout",
     "output_type": "stream",
     "text": [
      "2.102831823356284\n"
     ]
    },
    {
     "data": {
      "image/png": "[encoded data removed]",
      "text/plain": [
       "<Figure size 432x288 with 1 Axes>"
      ]
     },
     "metadata": {
      "needs_background": "light"
     },
     "output_type": "display_data"
    }
   ],
   "source": [
    "ensmean = enkf.analysis.mean(axis=0)\n",
    "\n",
    "rmse = da_rmse(nature, ensmean, obs_intv)\n",
    "plt.plot(rmse)\n",
    "print(rmse.mean())"
   ]
  },
  {
   "cell_type": "code",
   "execution_count": null,
   "metadata": {},
   "outputs": [],
   "source": []
  },
  {
   "cell_type": "code",
   "execution_count": null,
   "metadata": {},
   "outputs": [],
   "source": []
  },
  {
   "cell_type": "markdown",
   "metadata": {},
   "source": [
    "## Localization in object"
   ]
  },
  {
   "cell_type": "code",
   "execution_count": 26,
   "metadata": {},
   "outputs": [],
   "source": [
    "class DAbase:\n",
    "    def __init__(self, model, dt, store_history=False):\n",
    "        self._isstore = store_history\n",
    "        self._params = {'alpha': 0, 'inflat': 1}\n",
    "        self.model = model\n",
    "        self.dt = dt\n",
    "        self.X_ini = None\n",
    "        \n",
    "    def set_params(self, param_list, **kwargs):\n",
    "        for key, value in kwargs.items():\n",
    "            if key in param_list:\n",
    "                self._params[key] = kwargs.get(key)\n",
    "            else:\n",
    "                raise ValueError(f'Invalid parameter: {key}')\n",
    "        \n",
    "    def _check_params(self, param_list):\n",
    "        missing_params = []\n",
    "        for var in param_list:\n",
    "            if self._params.get(var) is None:\n",
    "                missing_params.append(var)\n",
    "        return missing_params\n",
    "    \n",
    "    \n",
    "class EnKF(DAbase):\n",
    "    def __init__(self, model, dt, store_history=False):\n",
    "        super().__init__(model, dt, store_history)\n",
    "        self._param_list = [\n",
    "            'X_ens_ini', \n",
    "            'obs', \n",
    "            'obs_interv', \n",
    "            'R', \n",
    "            'H_func', \n",
    "            'alpha', \n",
    "            'inflat',\n",
    "            'local_mo',\n",
    "            'local_oo'\n",
    "        ]\n",
    "        \n",
    "    def list_params(self):\n",
    "        return self._param_list\n",
    "        \n",
    "    def set_params(self, **kwargs):\n",
    "        super().set_params(self._param_list, **kwargs)\n",
    "        \n",
    "    def _check_params(self):\n",
    "        if self._params.get('H_func') is None:\n",
    "            H_func = lambda arr: arr\n",
    "            self._params['H_func'] = H_func\n",
    "        if self._params.get('local_mo') is None:\n",
    "            ndim_model = self._params.get('X_ens_ini').shape[0]\n",
    "            ndim_obs = self._params.get('obs').shape[0]\n",
    "            loc_mo = np.ones((ndim_model, ndim_obs))\n",
    "            self._params['local_mo'] = loc_mo\n",
    "        if self._params.get('local_oo') is None:\n",
    "            ndim_obs = self._params.get('obs').shape[0]\n",
    "            loc_oo = np.ones((ndim_obs, ndim_obs))\n",
    "            self._params['local_oo'] = loc_oo\n",
    "            \n",
    "        missing_params = super()._check_params(self._param_list)\n",
    "        if missing_params:\n",
    "            raise ValueError(f\"Missing parameters: {missing_params}\")\n",
    "            \n",
    "    def _analysis(self, xb, yo, R, H_func=None, loc_mo=None, loc_oo=None):\n",
    "        \"\"\"xb.shape = (n_dim, n_ens)\"\"\"\n",
    "        if H_func is None:\n",
    "            H_func = lambda arr: arr\n",
    "        \n",
    "        N_ens = xb.shape[1]\n",
    "        yo_ens = np.random.multivariate_normal(yo.ravel(), R, size=N_ens).T  # (ndim_yo, N_ens)\n",
    "        xb_mean = xb.mean(axis=1)[:,np.newaxis]  # (ndim_xb, 1)\n",
    "        \n",
    "        xa_ens = np.zeros((xb.shape[0], N_ens))\n",
    "        for iens in range(N_ens):\n",
    "            xb_mean = xb.mean(axis=1)[:,np.newaxis]\n",
    "            Xb_perturb = xb - xb_mean\n",
    "            HXb_perturb = H_func(Xb_perturb) - H_func(Xb_perturb).mean(axis=1)[:,np.newaxis]\n",
    "            \n",
    "            PfH_T = Xb_perturb @ HXb_perturb.T / (N_ens-1)\n",
    "            HPfH_T = HXb_perturb @ HXb_perturb.T / (N_ens-1)\n",
    "            K = loc_mo * PfH_T @ np.linalg.inv(loc_oo * HPfH_T + R)\n",
    "            xa_ens[:,[iens]] = xb[:,[iens]] + K @ (yo_ens[:,[iens]] - H_func(xb[:,[iens]]))\n",
    "            \n",
    "        return xa_ens\n",
    "    \n",
    "    def cycle(self):\n",
    "        self._check_params()\n",
    "        \n",
    "        model = self.model\n",
    "        dt = self.dt\n",
    "        cycle_len = self._params['obs_interv']\n",
    "        cycle_num = self._params['obs'].shape[1]\n",
    "        \n",
    "        xb = self._params['X_ens_ini'].copy()\n",
    "        obs = self._params['obs']\n",
    "        R = self._params['R']\n",
    "        H_func = self._params['H_func']\n",
    "        alpha = self._params['alpha']\n",
    "        inflat = self._params['inflat']\n",
    "        loc_mo = self._params['local_mo']\n",
    "        loc_oo = self._params['local_oo']\n",
    "        \n",
    "        ndim, N_ens = xb.shape\n",
    "        background = np.zeros((N_ens, ndim, cycle_len*cycle_num))\n",
    "        analysis = np.zeros_like(background)\n",
    "        \n",
    "        t_start = 0\n",
    "        ts = np.linspace(t_start, (cycle_len-1)*dt, cycle_len)\n",
    "        \n",
    "        for nc in range(cycle_num):\n",
    "            # analysis\n",
    "            xa = self._analysis(xb, obs[:,[nc]], R, H_func, loc_mo, loc_oo)\n",
    "            \n",
    "            # inflat\n",
    "            xa_perturb = xa - xa.mean(axis=1)[:,np.newaxis]\n",
    "            xa_perturb *= inflat\n",
    "            xa = xa.mean(axis=1)[:,np.newaxis] + xa_perturb\n",
    "            \n",
    "            # ensemble forecast\n",
    "            for iens in range(N_ens):\n",
    "                x_forecast = model(xa[:,iens], ts)   # (ndim, ts.size)\n",
    "                \n",
    "                idx1 = nc*cycle_len\n",
    "                idx2 = (nc+1)*cycle_len\n",
    "                analysis[iens,:,idx1:idx2] = x_forecast\n",
    "                background[iens,:,[idx1]] = xb[:,iens]\n",
    "                background[iens,:,(idx1+1):idx2] = x_forecast[:,1:]\n",
    "                \n",
    "                # xb for next cycle\n",
    "                xb[:,iens] = x_forecast[:,-1]\n",
    "                \n",
    "            # for next cycle\n",
    "            t_start = int(ts[-1] + dt)\n",
    "            ts = np.linspace(t_start, t_start+(cycle_len-1)*dt, cycle_len)\n",
    "            \n",
    "        self.background = background\n",
    "        self.analysis = analysis"
   ]
  },
  {
   "cell_type": "code",
   "execution_count": 27,
   "metadata": {},
   "outputs": [],
   "source": [
    "def dis_mo(i, j, L=2):\n",
    "    \"\"\"i: model space, j: obs space\"\"\"\n",
    "    j = j * 2 - 1    # convert j into model space\n",
    "    dis_idx = min(abs(i-j), 40-abs(i-j))\n",
    "    return np.exp(-dis_idx**2 / (2*L**2))\n",
    "    \n",
    "def dis_oo(i, j, L=2): \n",
    "    dis_idx = min(abs(i-j), 20-abs(i-j))\n",
    "    dis_idx = dis_idx * 2\n",
    "    return np.exp(-dis_idx**2 / (2*L**2))\n",
    "\n",
    "\n",
    "loc1 = np.zeros((40, 20))\n",
    "for i in range(40):\n",
    "    for j in range(20):\n",
    "        loc1[i,j] = dis_mo(i, j)\n",
    "\n",
    "loc2 = np.zeros((20, 20))        \n",
    "for i in range(20):\n",
    "    for j in range(20):\n",
    "        loc2[i,j] = dis_oo(i, j)"
   ]
  },
  {
   "cell_type": "code",
   "execution_count": 32,
   "metadata": {},
   "outputs": [],
   "source": [
    "enkf = EnKF(lorenz96_fdm, dt)\n",
    "params = {\n",
    "    'X_ens_ini': X_ens_ini,\n",
    "    'obs': pobs,\n",
    "    'obs_interv': obs_intv,\n",
    "    'R': 2 * np.eye(20),\n",
    "    'H_func': lambda arr: arr[::2,:],\n",
    "    'alpha': 0.3,\n",
    "    'inflat': 1.2,\n",
    "    'local_mo': loc1,\n",
    "    'local_oo': loc2\n",
    "}\n",
    "enkf.set_params(**params)\n",
    "enkf.cycle()"
   ]
  },
  {
   "cell_type": "code",
   "execution_count": 33,
   "metadata": {},
   "outputs": [
    {
     "name": "stdout",
     "output_type": "stream",
     "text": [
      "1.9331719957584936\n"
     ]
    },
    {
     "data": {
      "image/png": "[encoded data removed]",
      "text/plain": [
       "<Figure size 432x288 with 1 Axes>"
      ]
     },
     "metadata": {
      "needs_background": "light"
     },
     "output_type": "display_data"
    }
   ],
   "source": [
    "ensmean = enkf.analysis.mean(axis=0)\n",
    "\n",
    "rmse = da_rmse(nature, ensmean, obs_intv)\n",
    "plt.plot(rmse)\n",
    "print(rmse.mean())"
   ]
  },
  {
   "cell_type": "code",
   "execution_count": null,
   "metadata": {},
   "outputs": [],
   "source": []
  }
 ],
 "metadata": {
  "kernelspec": {
   "display_name": "Python 3",
   "language": "python",
   "name": "python3"
  },
  "language_info": {
   "codemirror_mode": {
    "name": "ipython",
    "version": 3
   },
   "file_extension": ".py",
   "mimetype": "text/x-python",
   "name": "python",
   "nbconvert_exporter": "python",
   "pygments_lexer": "ipython3",
   "version": "3.7.4"
  }
 },
 "nbformat": 4,
 "nbformat_minor": 4
}
